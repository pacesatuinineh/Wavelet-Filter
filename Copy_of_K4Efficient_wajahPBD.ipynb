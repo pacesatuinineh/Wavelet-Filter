{
  "cells": [
    {
      "cell_type": "markdown",
      "metadata": {
        "id": "view-in-github",
        "colab_type": "text"
      },
      "source": [
        "<a href=\"https://colab.research.google.com/github/pacesatuinineh/Wavelet-Filter/blob/main/Copy_of_K4Efficient_wajahPBD.ipynb\" target=\"_parent\"><img src=\"https://colab.research.google.com/assets/colab-badge.svg\" alt=\"Open In Colab\"/></a>"
      ]
    },
    {
      "cell_type": "code",
      "source": [
        "#!pip install efficientnet==0.0.3\n",
        "#!pip install PyWavelets"
      ],
      "metadata": {
        "id": "BYUAJQ01aozs"
      },
      "execution_count": null,
      "outputs": []
    },
    {
      "cell_type": "code",
      "execution_count": null,
      "metadata": {
        "id": "O1uQFkh1OR73"
      },
      "outputs": [],
      "source": [
        "import cv2\n",
        "import numpy as np\n",
        "import os\n",
        "import pandas as pd\n",
        "from skimage.feature import hog\n",
        "from skimage.color import rgb2gray\n",
        "from sklearn.preprocessing import LabelEncoder\n",
        "from sklearn.metrics import accuracy_score, confusion_matrix, classification_report\n",
        "import matplotlib.pyplot as plt\n",
        "import seaborn as sns\n",
        "import tensorflow as tf\n",
        "from tensorflow.keras.models import Model\n",
        "from tensorflow.keras.layers import Dense, Dropout, GlobalAveragePooling2D, BatchNormalization, Input\n",
        "from tensorflow.keras.preprocessing.image import ImageDataGenerator\n",
        "from tensorflow.keras.applications import ResNet50\n",
        "from tensorflow.keras.utils import to_categorical\n",
        "from sklearn.decomposition import PCA\n",
        "from sklearn.utils.class_weight import compute_class_weight\n",
        "#from tensorflow.keras.applications import VGG16\n",
        "#from tensorflow.keras.applications import MobileNetV2\n",
        "#from tensorflow.keras.applications import EfficientNetB0\n",
        "import matplotlib.pyplot as plt\n",
        "import numpy as np\n",
        "#import pywt\n",
        "from tensorflow.keras.applications import EfficientNetB5\n",
        "from tensorflow.keras.layers import Input, GlobalAveragePooling2D, Dense, Dropout, BatchNormalization\n",
        "from tensorflow.keras.models import Model\n",
        "import tensorflow as tf\n",
        "from tensorflow.keras.callbacks import EarlyStopping"
      ]
    },
    {
      "cell_type": "code",
      "execution_count": null,
      "metadata": {
        "id": "kdVXkRGgR6Nt",
        "colab": {
          "base_uri": "https://localhost:8080/"
        },
        "outputId": "949e7399-72c1-4ead-9b80-59e680f72ff7"
      },
      "outputs": [
        {
          "output_type": "stream",
          "name": "stdout",
          "text": [
            "Drive already mounted at /content/drive; to attempt to forcibly remount, call drive.mount(\"/content/drive\", force_remount=True).\n"
          ]
        }
      ],
      "source": [
        "from google.colab import drive\n",
        "drive.mount('/content/drive')\n",
        "\n"
      ]
    },
    {
      "cell_type": "code",
      "source": [
        "# Paths\n",
        "#data_path = \"/content/drive/MyDrive/WajahSorongRaya\"  # Adjust the path to where 'papua-1' and 'papua-2' are located\n",
        "\n"
      ],
      "metadata": {
        "id": "4ElfjpaY6q6v"
      },
      "execution_count": null,
      "outputs": []
    },
    {
      "cell_type": "code",
      "source": [
        "import os\n",
        "\n",
        "def list_folders_and_image_count(data_path):\n",
        "  \"\"\"\n",
        "  Lists subfolders within a directory and counts the number of images in each.\n",
        "\n",
        "  Args:\n",
        "    data_path: The path to the main directory.\n",
        "\n",
        "  Returns:\n",
        "    A dictionary where keys are folder names and values are image counts.\n",
        "  \"\"\"\n",
        "  folder_info = {}\n",
        "  for folder_name in os.listdir(data_path):\n",
        "    folder_path = os.path.join(data_path, folder_name)\n",
        "    if os.path.isdir(folder_path):\n",
        "      image_count = 0\n",
        "      for file_name in os.listdir(folder_path):\n",
        "        if file_name.lower().endswith(('.png', '.jpg', '.jpeg')):\n",
        "          image_count += 1\n",
        "      folder_info[folder_name] = image_count\n",
        "  return folder_info\n",
        "\n",
        "# Example usage:\n",
        "data_path = \"/content/drive/MyDrive/WajahSorongRaya\"\n",
        "folder_data = list_folders_and_image_count(data_path)\n",
        "\n",
        "# Print the results:\n",
        "for folder, count in folder_data.items():\n",
        "  print(f\"Folder: {folder}, Image Count: {count}\")"
      ],
      "metadata": {
        "colab": {
          "base_uri": "https://localhost:8080/"
        },
        "id": "vAm2tMtrRUCD",
        "outputId": "ab52b38d-7454-4006-9548-dce685fe871c"
      },
      "execution_count": null,
      "outputs": [
        {
          "output_type": "stream",
          "name": "stdout",
          "text": [
            "Folder: SorongSelatan, Image Count: 320\n",
            "Folder: Moi2, Image Count: 364\n",
            "Folder: Raja Ampat, Image Count: 337\n",
            "Folder: Maybrat, Image Count: 355\n"
          ]
        }
      ]
    },
    {
      "cell_type": "code",
      "execution_count": null,
      "metadata": {
        "id": "TzpkhnbsR_Q7"
      },
      "outputs": [],
      "source": [
        "# Constants\n",
        "IMAGE_SIZE = (224, 224)\n",
        "BATCH_SIZE = 16\n",
        "EPOCHS = 100"
      ]
    },
    {
      "cell_type": "code",
      "execution_count": null,
      "metadata": {
        "id": "69Ch8XRnSFsg"
      },
      "outputs": [],
      "source": [
        "# Preprocessing Function\n",
        "def preprocess_image(image):\n",
        "    # Resize image\n",
        "    image = cv2.resize(image, IMAGE_SIZE)\n",
        "    # Histogram equalization\n",
        "    image = cv2.cvtColor(image, cv2.COLOR_BGR2GRAY)\n",
        "    image = cv2.equalizeHist(image)\n",
        "    # Apply noise reduction\n",
        "    image = cv2.fastNlMeansDenoising(image, h=10)\n",
        "    # Convert back to RGB\n",
        "    return cv2.cvtColor(image, cv2.COLOR_GRAY2RGB)"
      ]
    },
    {
      "cell_type": "code",
      "source": [
        "def apply_haar_wavelet_and_gaussian(image):\n",
        "    coeffs2 = pywt.dwt2(image, 'haar')\n",
        "    LL, (LH, HL, HH) = coeffs2\n",
        "    LL_gaussian = cv2.GaussianBlur(LL, (5, 5), 0)  # Apply Gaussian filter\n",
        "    return LL_gaussian  # Use the low-frequency component with Gaussian filter"
      ],
      "metadata": {
        "id": "35xK0a6ZwI3W"
      },
      "execution_count": null,
      "outputs": []
    },
    {
      "cell_type": "code",
      "source": [
        "def extract_gabor_features(image):\n",
        "    # Konversi gambar ke grayscale\n",
        "    gray = cv2.cvtColor(image, cv2.COLOR_BGR2GRAY)\n",
        "\n",
        "    # Definisikan filter Gabor\n",
        "    gabor_filters = []\n",
        "    ksize = 31  # Ukuran kernel\n",
        "    for theta in np.arange(0, np.pi, np.pi / 16):  # Orientasi\n",
        "        kern = cv2.getGaborKernel((ksize, ksize), 4.0, theta, 10.0, 0.5, 0, ktype=cv2.CV_32F)\n",
        "        kern /= 1.5*kern.sum()\n",
        "        gabor_filters.append(kern)\n",
        "\n",
        "    # Terapkan filter Gabor dan gabungkan fitur\n",
        "    gabor_features = []\n",
        "    for kern in gabor_filters:\n",
        "        fimg = cv2.filter2D(gray, cv2.CV_8UC3, kern)\n",
        "        gabor_features.append(fimg)\n",
        "\n",
        "    # Gabungkan fitur Gabor menjadi satu vektor\n",
        "    gabor_features = np.concatenate([f.flatten() for f in gabor_features])\n",
        "\n",
        "    return gabor_features"
      ],
      "metadata": {
        "id": "BqCnqxHo1R57"
      },
      "execution_count": null,
      "outputs": []
    },
    {
      "cell_type": "code",
      "execution_count": null,
      "metadata": {
        "id": "A13Ba3tKSKGT"
      },
      "outputs": [],
      "source": [
        "# Function to apply Haar wavelet transformation\n",
        "def apply_haar_wavelet(image):\n",
        "    I = image.astype(float)\n",
        "    m, n = I.shape[:2]\n",
        "    if m % 2 != 0:\n",
        "        m -= 1\n",
        "    if n % 2 != 0:\n",
        "        n -= 1\n",
        "    I = I[:m, :n]\n",
        "\n",
        "    LL = np.zeros((m // 2, n // 2))\n",
        "    for i in range(0, m, 2):\n",
        "        for j in range(0, n, 2):\n",
        "            Ixy = I[i:i + 2, j:j + 2]\n",
        "            LL[i // 2, j // 2] = np.mean(Ixy)\n",
        "    return LL"
      ]
    },
    {
      "cell_type": "code",
      "execution_count": null,
      "metadata": {
        "id": "XpeyGgyySM3z"
      },
      "outputs": [],
      "source": [
        "# Function to extract HOG features\n",
        "def extract_hog_features(image):\n",
        "    if len(image.shape) == 3:\n",
        "        image = rgb2gray(image)\n",
        "    features, _ = hog(image, pixels_per_cell=(8, 8), cells_per_block=(2, 2), visualize=True)\n",
        "    return features"
      ]
    },
    {
      "cell_type": "code",
      "execution_count": null,
      "metadata": {
        "id": "rBFoJaueSSPd"
      },
      "outputs": [],
      "source": [
        "def load_data(path):\n",
        "    data = []\n",
        "    labels = []\n",
        "    for folder in os.listdir(path):\n",
        "        folder_path = os.path.join(path, folder)\n",
        "        if os.path.isdir(folder_path):\n",
        "            for file in os.listdir(folder_path):\n",
        "                file_path = os.path.join(folder_path, file)\n",
        "                image = cv2.imread(file_path)\n",
        "                if image is not None:\n",
        "                    # Preprocess image\n",
        "                    image = preprocess_image(image)\n",
        "\n",
        "                    # Apply Haar wavelet\n",
        "                    #haar_image = apply_haar_wavelet(image)\n",
        "\n",
        "                    # Resize the image to 224x224 for ResNet50\n",
        "                    #haar_image = cv2.resize(haar_image, (224, 224))\n",
        "\n",
        "                    # Extract HOG features\n",
        "                    #hog_features = extract_hog_features(haar_image)\n",
        "\n",
        "                    # Extract Gabor features\n",
        "                    gabor_features = extract_gabor_features(image)\n",
        "\n",
        "                    #Extract Haar + Gaussia\n",
        "                    #haar_image = apply_haar_wavelet_and_gaussian(image)\n",
        "\n",
        "                    #Extract Haar + Gabor\n",
        "                    combined_features = np.concatenate([image.flatten(), gabor_features])\n",
        "\n",
        "                    data.append(combined_features)  # Append the processed image\n",
        "\n",
        "                    #data.append(combined_features)  # Append the processed image\n",
        "\n",
        "                    labels.append(folder)\n",
        "\n",
        "    return np.array(data), np.array(labels)"
      ]
    },
    {
      "cell_type": "code",
      "source": [],
      "metadata": {
        "id": "0-h4fArUwFWs"
      },
      "execution_count": null,
      "outputs": []
    },
    {
      "cell_type": "code",
      "source": [],
      "metadata": {
        "id": "o2VSNKJ2-Hw1"
      },
      "execution_count": null,
      "outputs": []
    },
    {
      "cell_type": "code",
      "source": [],
      "metadata": {
        "id": "LeIgxb8g-MVb"
      },
      "execution_count": null,
      "outputs": []
    },
    {
      "cell_type": "code",
      "execution_count": null,
      "metadata": {
        "id": "KAP0lMIcSU1u"
      },
      "outputs": [],
      "source": [
        "# Load dataset\n",
        "data, labels = load_data(data_path)"
      ]
    },
    {
      "cell_type": "code",
      "source": [],
      "metadata": {
        "id": "agKK3jlu-M3D"
      },
      "execution_count": null,
      "outputs": []
    },
    {
      "cell_type": "code",
      "source": [],
      "metadata": {
        "id": "xdUyEy3i8q2Z"
      },
      "execution_count": null,
      "outputs": []
    },
    {
      "cell_type": "code",
      "source": [
        "num_images_to_display = 4  # Jumlah gambar yang ingin ditampilkan\n",
        "sample_images = data[:num_images_to_display]\n",
        "sample_labels = labels[:num_images_to_display]"
      ],
      "metadata": {
        "id": "HX3lp1Hs5Hq1"
      },
      "execution_count": null,
      "outputs": []
    },
    {
      "cell_type": "code",
      "source": [
        "#fig, axes = plt.subplots(1, num_images_to_display, figsize=(15, 5))  # Sesuaikan figsize jika perlu\n",
        "#for i, (image, label) in enumerate(zip(sample_images, sample_labels)):\n",
        "#    axes[i].imshow(image.astype(np.uint8), cmap='gray')\n",
        "#    axes[i].axis('off')\n",
        "#    axes[i].set_title(label)  # Menampilkan label sebagai judul di bawah gambar\n",
        "#plt.show()"
      ],
      "metadata": {
        "id": "Ot6yezTv5JCU"
      },
      "execution_count": null,
      "outputs": []
    },
    {
      "cell_type": "code",
      "execution_count": null,
      "metadata": {
        "id": "T1Uftjw3SVSf"
      },
      "outputs": [],
      "source": [
        "# Encode labels\n",
        "encoder = LabelEncoder()\n",
        "labels_encoded = encoder.fit_transform(labels)\n"
      ]
    },
    {
      "cell_type": "code",
      "execution_count": null,
      "metadata": {
        "id": "x47i3r-qSXC5",
        "colab": {
          "base_uri": "https://localhost:8080/"
        },
        "outputId": "604e98d1-0317-43de-8774-8251650bfa60"
      },
      "outputs": [
        {
          "output_type": "stream",
          "name": "stdout",
          "text": [
            "Jumlah data train: 674\n",
            "Jumlah data validasi: 289\n",
            "Jumlah data test: 413\n"
          ]
        }
      ],
      "source": [
        "# Split into training and testing\n",
        "from sklearn.model_selection import train_test_split\n",
        "#train_data, test_data, train_labels, test_labels = train_test_split(data, labels_encoded, test_size=0.2, random_state=42)\n",
        "train_images, test_images, train_labels, test_labels = train_test_split(\n",
        "    data, labels_encoded, test_size=0.3, random_state=42\n",
        ")\n",
        "\n",
        "# Split training data into training and validation sets\n",
        "train_images, val_images, train_labels, val_labels = train_test_split(\n",
        "    train_images, train_labels, test_size=0.3, random_state=42\n",
        ")\n",
        "\n",
        "# Print the number of samples in each set\n",
        "print(\"Jumlah data train:\", len(train_images))\n",
        "print(\"Jumlah data validasi:\", len(val_images))\n",
        "print(\"Jumlah data test:\", len(test_images))\n"
      ]
    },
    {
      "cell_type": "code",
      "execution_count": null,
      "metadata": {
        "id": "KktpjT5iSZrZ"
      },
      "outputs": [],
      "source": [
        "# Class weights\n",
        "class_weights = compute_class_weight('balanced', classes=np.unique(train_labels), y=train_labels)\n",
        "class_weight_dict = dict(enumerate(class_weights))\n"
      ]
    },
    {
      "cell_type": "code",
      "execution_count": null,
      "metadata": {
        "id": "CPJhEjBfSb0v",
        "colab": {
          "base_uri": "https://localhost:8080/"
        },
        "outputId": "c94380f7-328b-4f2f-ba46-4aa85744e3ec"
      },
      "outputs": [
        {
          "output_type": "stream",
          "name": "stdout",
          "text": [
            "Downloading data from https://storage.googleapis.com/keras-applications/efficientnetb5_notop.h5\n",
            "\u001b[1m115263384/115263384\u001b[0m \u001b[32m━━━━━━━━━━━━━━━━━━━━\u001b[0m\u001b[37m\u001b[0m \u001b[1m6s\u001b[0m 0us/step\n"
          ]
        }
      ],
      "source": [
        "# Define CNN model with pretrained ResNet50\n",
        "def build_model():\n",
        "    input_tensor = Input(shape=(224, 224, 3))\n",
        "    base_model = EfficientNetB5(weights='imagenet', include_top=False, input_shape=(224, 224, 3))\n",
        "\n",
        "    x = base_model.output\n",
        "    x = GlobalAveragePooling2D()(x)\n",
        "    x = BatchNormalization()(x)\n",
        "    x = Dense(1024, activation='relu', kernel_regularizer=tf.keras.regularizers.l2(0.01))(x)  # Lebih dalam dan lebih banyak unit\n",
        "    x = Dropout(0.8)(x)  # Dropout lebih tinggi\n",
        "    x = Dense(512, activation='relu', kernel_regularizer=tf.keras.regularizers.l2(0.01))(x)\n",
        "    x = Dropout(0.8)(x)\n",
        "    predictions = Dense(len(encoder.classes_), activation='softmax')(x)\n",
        "\n",
        "    model = Model(inputs=base_model.input, outputs=predictions)\n",
        "\n",
        "    # Unfreeze lebih banyak lapisan pada model dasar\n",
        "    for layer in base_model.layers:\n",
        "        layer.trainable = True\n",
        "\n",
        "    # Compile model dengan learning rate scheduler\n",
        "    optimizer = tf.keras.optimizers.Adam(learning_rate=1e-4)\n",
        "    model.compile(optimizer=optimizer, loss='categorical_crossentropy', metrics=['accuracy'])\n",
        "\n",
        "    return model\n",
        "\n",
        "# Bangun model\n",
        "model = build_model()"
      ]
    },
    {
      "cell_type": "code",
      "execution_count": null,
      "metadata": {
        "id": "T4xJ7D2bSf6F"
      },
      "outputs": [],
      "source": [
        "train_datagen = ImageDataGenerator(\n",
        "    rotation_range=30,\n",
        "    width_shift_range=0.3,\n",
        "    height_shift_range=0.3,\n",
        "    shear_range=0.3,\n",
        "    zoom_range=0.3,\n",
        "    #horizontal_flip=True,\n",
        "    brightness_range=[0.8, 1.2],\n",
        "    fill_mode='nearest'\n",
        ")"
      ]
    },
    {
      "cell_type": "code",
      "execution_count": null,
      "metadata": {
        "id": "xAcGlN-0SlhF"
      },
      "outputs": [],
      "source": [
        "test_datagen = ImageDataGenerator()"
      ]
    },
    {
      "cell_type": "code",
      "execution_count": null,
      "metadata": {
        "id": "0GbT6qBdSogc"
      },
      "outputs": [],
      "source": [
        "# Load and preprocess images for CNN\n",
        "def load_and_preprocess_images(path):\n",
        "    images = []\n",
        "    labels = []\n",
        "    for folder in os.listdir(path):\n",
        "        folder_path = os.path.join(path, folder)\n",
        "        if os.path.isdir(folder_path):\n",
        "            for file in os.listdir(folder_path):\n",
        "                file_path = os.path.join(folder_path, file)\n",
        "                image = cv2.imread(file_path)\n",
        "                if image is not None:\n",
        "                    image = preprocess_image(image)\n",
        "                    images.append(image)\n",
        "                    labels.append(folder)\n",
        "    return np.array(images), np.array(labels)\n"
      ]
    },
    {
      "cell_type": "code",
      "execution_count": null,
      "metadata": {
        "id": "WiDv3UB1SpWF",
        "colab": {
          "base_uri": "https://localhost:8080/"
        },
        "outputId": "7414684a-de06-4028-c7de-ef2f0cacc8bd"
      },
      "outputs": [
        {
          "output_type": "stream",
          "name": "stdout",
          "text": [
            "Jumlah data train: 1100\n",
            "Jumlah data validasi: 289\n",
            "Jumlah data test: 276\n"
          ]
        }
      ],
      "source": [
        "#train_images, train_labels = load_and_preprocess_images(data_path)\n",
        "#test_images, test_labels = load_and_preprocess_images(data_path)\n",
        "# Load and preprocess all images first\n",
        "all_images, all_labels = load_and_preprocess_images(data_path)\n",
        "\n",
        "# Split into training and testing, maintaining 20% for testing\n",
        "train_images, test_images, train_labels, test_labels = train_test_split(\n",
        "    all_images, all_labels, test_size=0.2, random_state=42\n",
        ")\n",
        "\n",
        "# Print the number of samples in each set\n",
        "print(\"Jumlah data train:\", len(train_images))\n",
        "print(\"Jumlah data validasi:\", len(val_images))  # val_images remains unchanged\n",
        "print(\"Jumlah data test:\", len(test_images))"
      ]
    },
    {
      "cell_type": "code",
      "execution_count": null,
      "metadata": {
        "id": "w-O35jj_SrTj"
      },
      "outputs": [],
      "source": [
        "# Encode labels\n",
        "train_labels_encoded = encoder.fit_transform(train_labels)\n",
        "test_labels_encoded = encoder.transform(test_labels)\n",
        "\n",
        "train_labels_categorical = to_categorical(train_labels_encoded)\n",
        "test_labels_categorical = to_categorical(test_labels_encoded)\n",
        "\n",
        "# Callbacks\n",
        "reduce_lr = tf.keras.callbacks.ReduceLROnPlateau(monitor='val_loss', factor=0.2, patience=5, min_lr=1e-5)\n",
        "early_stopping = tf.keras.callbacks.EarlyStopping(monitor='val_loss', patience=5, restore_best_weights=True)\n"
      ]
    },
    {
      "cell_type": "code",
      "execution_count": null,
      "metadata": {
        "id": "NOUQWru6SvQZ",
        "colab": {
          "base_uri": "https://localhost:8080/"
        },
        "outputId": "89f39a0c-1c8c-48a8-8aa5-b3289d95ba19"
      },
      "outputs": [
        {
          "output_type": "stream",
          "name": "stdout",
          "text": [
            "Epoch 1/100\n"
          ]
        },
        {
          "output_type": "stream",
          "name": "stderr",
          "text": [
            "/usr/local/lib/python3.11/dist-packages/keras/src/trainers/data_adapters/py_dataset_adapter.py:122: UserWarning: Your `PyDataset` class should call `super().__init__(**kwargs)` in its constructor. `**kwargs` can include `workers`, `use_multiprocessing`, `max_queue_size`. Do not pass these arguments to `fit()`, as they will be ignored.\n",
            "  self._warn_if_super_not_called()\n"
          ]
        },
        {
          "output_type": "stream",
          "name": "stdout",
          "text": [
            "\u001b[1m69/69\u001b[0m \u001b[32m━━━━━━━━━━━━━━━━━━━━\u001b[0m\u001b[37m\u001b[0m \u001b[1m316s\u001b[0m 2s/step - accuracy: 0.2858 - loss: 24.7230 - val_accuracy: 0.3442 - val_loss: 21.3469 - learning_rate: 1.0000e-04\n",
            "Epoch 2/100\n",
            "\u001b[1m69/69\u001b[0m \u001b[32m━━━━━━━━━━━━━━━━━━━━\u001b[0m\u001b[37m\u001b[0m \u001b[1m21s\u001b[0m 279ms/step - accuracy: 0.3382 - loss: 23.5103 - val_accuracy: 0.5290 - val_loss: 20.9598 - learning_rate: 1.0000e-04\n",
            "Epoch 3/100\n",
            "\u001b[1m69/69\u001b[0m \u001b[32m━━━━━━━━━━━━━━━━━━━━\u001b[0m\u001b[37m\u001b[0m \u001b[1m21s\u001b[0m 279ms/step - accuracy: 0.3943 - loss: 22.7935 - val_accuracy: 0.6341 - val_loss: 20.4821 - learning_rate: 1.0000e-04\n",
            "Epoch 4/100\n",
            "\u001b[1m69/69\u001b[0m \u001b[32m━━━━━━━━━━━━━━━━━━━━\u001b[0m\u001b[37m\u001b[0m \u001b[1m20s\u001b[0m 274ms/step - accuracy: 0.4631 - loss: 22.0971 - val_accuracy: 0.6812 - val_loss: 20.1218 - learning_rate: 1.0000e-04\n",
            "Epoch 5/100\n",
            "\u001b[1m69/69\u001b[0m \u001b[32m━━━━━━━━━━━━━━━━━━━━\u001b[0m\u001b[37m\u001b[0m \u001b[1m20s\u001b[0m 274ms/step - accuracy: 0.4872 - loss: 21.6185 - val_accuracy: 0.6957 - val_loss: 19.8881 - learning_rate: 1.0000e-04\n",
            "Epoch 6/100\n",
            "\u001b[1m69/69\u001b[0m \u001b[32m━━━━━━━━━━━━━━━━━━━━\u001b[0m\u001b[37m\u001b[0m \u001b[1m20s\u001b[0m 274ms/step - accuracy: 0.6122 - loss: 20.9013 - val_accuracy: 0.7174 - val_loss: 19.6250 - learning_rate: 1.0000e-04\n",
            "Epoch 7/100\n",
            "\u001b[1m69/69\u001b[0m \u001b[32m━━━━━━━━━━━━━━━━━━━━\u001b[0m\u001b[37m\u001b[0m \u001b[1m20s\u001b[0m 275ms/step - accuracy: 0.6217 - loss: 20.4810 - val_accuracy: 0.7210 - val_loss: 19.4037 - learning_rate: 1.0000e-04\n",
            "Epoch 8/100\n",
            "\u001b[1m69/69\u001b[0m \u001b[32m━━━━━━━━━━━━━━━━━━━━\u001b[0m\u001b[37m\u001b[0m \u001b[1m20s\u001b[0m 274ms/step - accuracy: 0.6373 - loss: 20.3017 - val_accuracy: 0.7464 - val_loss: 19.1969 - learning_rate: 1.0000e-04\n",
            "Epoch 9/100\n",
            "\u001b[1m69/69\u001b[0m \u001b[32m━━━━━━━━━━━━━━━━━━━━\u001b[0m\u001b[37m\u001b[0m \u001b[1m20s\u001b[0m 274ms/step - accuracy: 0.6334 - loss: 19.8562 - val_accuracy: 0.7754 - val_loss: 18.9897 - learning_rate: 1.0000e-04\n",
            "Epoch 10/100\n",
            "\u001b[1m69/69\u001b[0m \u001b[32m━━━━━━━━━━━━━━━━━━━━\u001b[0m\u001b[37m\u001b[0m \u001b[1m20s\u001b[0m 275ms/step - accuracy: 0.6571 - loss: 19.5913 - val_accuracy: 0.7500 - val_loss: 18.7708 - learning_rate: 1.0000e-04\n",
            "Epoch 11/100\n",
            "\u001b[1m69/69\u001b[0m \u001b[32m━━━━━━━━━━━━━━━━━━━━\u001b[0m\u001b[37m\u001b[0m \u001b[1m20s\u001b[0m 276ms/step - accuracy: 0.6689 - loss: 19.1936 - val_accuracy: 0.7935 - val_loss: 18.4646 - learning_rate: 1.0000e-04\n",
            "Epoch 12/100\n",
            "\u001b[1m69/69\u001b[0m \u001b[32m━━━━━━━━━━━━━━━━━━━━\u001b[0m\u001b[37m\u001b[0m \u001b[1m20s\u001b[0m 276ms/step - accuracy: 0.6903 - loss: 18.8129 - val_accuracy: 0.7826 - val_loss: 18.2375 - learning_rate: 1.0000e-04\n",
            "Epoch 13/100\n",
            "\u001b[1m69/69\u001b[0m \u001b[32m━━━━━━━━━━━━━━━━━━━━\u001b[0m\u001b[37m\u001b[0m \u001b[1m20s\u001b[0m 274ms/step - accuracy: 0.6713 - loss: 18.5426 - val_accuracy: 0.7645 - val_loss: 17.9761 - learning_rate: 1.0000e-04\n",
            "Epoch 14/100\n",
            "\u001b[1m69/69\u001b[0m \u001b[32m━━━━━━━━━━━━━━━━━━━━\u001b[0m\u001b[37m\u001b[0m \u001b[1m20s\u001b[0m 273ms/step - accuracy: 0.6972 - loss: 18.4086 - val_accuracy: 0.7899 - val_loss: 17.6958 - learning_rate: 1.0000e-04\n",
            "Epoch 15/100\n",
            "\u001b[1m69/69\u001b[0m \u001b[32m━━━━━━━━━━━━━━━━━━━━\u001b[0m\u001b[37m\u001b[0m \u001b[1m20s\u001b[0m 275ms/step - accuracy: 0.6755 - loss: 18.0648 - val_accuracy: 0.7826 - val_loss: 17.5000 - learning_rate: 1.0000e-04\n",
            "Epoch 16/100\n",
            "\u001b[1m69/69\u001b[0m \u001b[32m━━━━━━━━━━━━━━━━━━━━\u001b[0m\u001b[37m\u001b[0m \u001b[1m20s\u001b[0m 274ms/step - accuracy: 0.6815 - loss: 17.7301 - val_accuracy: 0.7572 - val_loss: 17.2223 - learning_rate: 1.0000e-04\n",
            "Epoch 17/100\n",
            "\u001b[1m69/69\u001b[0m \u001b[32m━━━━━━━━━━━━━━━━━━━━\u001b[0m\u001b[37m\u001b[0m \u001b[1m20s\u001b[0m 276ms/step - accuracy: 0.7039 - loss: 17.3893 - val_accuracy: 0.8116 - val_loss: 16.9641 - learning_rate: 1.0000e-04\n",
            "Epoch 18/100\n",
            "\u001b[1m69/69\u001b[0m \u001b[32m━━━━━━━━━━━━━━━━━━━━\u001b[0m\u001b[37m\u001b[0m \u001b[1m20s\u001b[0m 276ms/step - accuracy: 0.7156 - loss: 17.1275 - val_accuracy: 0.7935 - val_loss: 16.6976 - learning_rate: 1.0000e-04\n",
            "Epoch 19/100\n",
            "\u001b[1m69/69\u001b[0m \u001b[32m━━━━━━━━━━━━━━━━━━━━\u001b[0m\u001b[37m\u001b[0m \u001b[1m20s\u001b[0m 274ms/step - accuracy: 0.7036 - loss: 16.8314 - val_accuracy: 0.8043 - val_loss: 16.4163 - learning_rate: 1.0000e-04\n",
            "Epoch 20/100\n",
            "\u001b[1m69/69\u001b[0m \u001b[32m━━━━━━━━━━━━━━━━━━━━\u001b[0m\u001b[37m\u001b[0m \u001b[1m20s\u001b[0m 274ms/step - accuracy: 0.7091 - loss: 16.5448 - val_accuracy: 0.8080 - val_loss: 16.1599 - learning_rate: 1.0000e-04\n",
            "Epoch 21/100\n",
            "\u001b[1m69/69\u001b[0m \u001b[32m━━━━━━━━━━━━━━━━━━━━\u001b[0m\u001b[37m\u001b[0m \u001b[1m20s\u001b[0m 276ms/step - accuracy: 0.7161 - loss: 16.4704 - val_accuracy: 0.7826 - val_loss: 15.8958 - learning_rate: 1.0000e-04\n",
            "Epoch 22/100\n",
            "\u001b[1m69/69\u001b[0m \u001b[32m━━━━━━━━━━━━━━━━━━━━\u001b[0m\u001b[37m\u001b[0m \u001b[1m20s\u001b[0m 276ms/step - accuracy: 0.7585 - loss: 15.9610 - val_accuracy: 0.7681 - val_loss: 15.6346 - learning_rate: 1.0000e-04\n",
            "Epoch 23/100\n",
            "\u001b[1m69/69\u001b[0m \u001b[32m━━━━━━━━━━━━━━━━━━━━\u001b[0m\u001b[37m\u001b[0m \u001b[1m20s\u001b[0m 276ms/step - accuracy: 0.7461 - loss: 15.7309 - val_accuracy: 0.8152 - val_loss: 15.3051 - learning_rate: 1.0000e-04\n",
            "Epoch 24/100\n",
            "\u001b[1m69/69\u001b[0m \u001b[32m━━━━━━━━━━━━━━━━━━━━\u001b[0m\u001b[37m\u001b[0m \u001b[1m20s\u001b[0m 276ms/step - accuracy: 0.7363 - loss: 15.4527 - val_accuracy: 0.8080 - val_loss: 15.0273 - learning_rate: 1.0000e-04\n",
            "Epoch 25/100\n",
            "\u001b[1m69/69\u001b[0m \u001b[32m━━━━━━━━━━━━━━━━━━━━\u001b[0m\u001b[37m\u001b[0m \u001b[1m20s\u001b[0m 275ms/step - accuracy: 0.7595 - loss: 15.0459 - val_accuracy: 0.8152 - val_loss: 14.7143 - learning_rate: 1.0000e-04\n",
            "Epoch 26/100\n",
            "\u001b[1m69/69\u001b[0m \u001b[32m━━━━━━━━━━━━━━━━━━━━\u001b[0m\u001b[37m\u001b[0m \u001b[1m20s\u001b[0m 275ms/step - accuracy: 0.7773 - loss: 14.7634 - val_accuracy: 0.8442 - val_loss: 14.4164 - learning_rate: 1.0000e-04\n",
            "Epoch 27/100\n",
            "\u001b[1m69/69\u001b[0m \u001b[32m━━━━━━━━━━━━━━━━━━━━\u001b[0m\u001b[37m\u001b[0m \u001b[1m20s\u001b[0m 274ms/step - accuracy: 0.7439 - loss: 14.4837 - val_accuracy: 0.8478 - val_loss: 14.0932 - learning_rate: 1.0000e-04\n",
            "Epoch 28/100\n",
            "\u001b[1m69/69\u001b[0m \u001b[32m━━━━━━━━━━━━━━━━━━━━\u001b[0m\u001b[37m\u001b[0m \u001b[1m20s\u001b[0m 274ms/step - accuracy: 0.7637 - loss: 14.1236 - val_accuracy: 0.8406 - val_loss: 13.8562 - learning_rate: 1.0000e-04\n",
            "Epoch 29/100\n",
            "\u001b[1m69/69\u001b[0m \u001b[32m━━━━━━━━━━━━━━━━━━━━\u001b[0m\u001b[37m\u001b[0m \u001b[1m20s\u001b[0m 277ms/step - accuracy: 0.7504 - loss: 13.8486 - val_accuracy: 0.8225 - val_loss: 13.5459 - learning_rate: 1.0000e-04\n",
            "Epoch 30/100\n",
            "\u001b[1m69/69\u001b[0m \u001b[32m━━━━━━━━━━━━━━━━━━━━\u001b[0m\u001b[37m\u001b[0m \u001b[1m20s\u001b[0m 275ms/step - accuracy: 0.7356 - loss: 13.6881 - val_accuracy: 0.8478 - val_loss: 13.2032 - learning_rate: 1.0000e-04\n",
            "Epoch 31/100\n",
            "\u001b[1m69/69\u001b[0m \u001b[32m━━━━━━━━━━━━━━━━━━━━\u001b[0m\u001b[37m\u001b[0m \u001b[1m20s\u001b[0m 273ms/step - accuracy: 0.7497 - loss: 13.4098 - val_accuracy: 0.8333 - val_loss: 12.9071 - learning_rate: 1.0000e-04\n",
            "Epoch 32/100\n",
            "\u001b[1m69/69\u001b[0m \u001b[32m━━━━━━━━━━━━━━━━━━━━\u001b[0m\u001b[37m\u001b[0m \u001b[1m20s\u001b[0m 274ms/step - accuracy: 0.7736 - loss: 12.9604 - val_accuracy: 0.8225 - val_loss: 12.6086 - learning_rate: 1.0000e-04\n",
            "Epoch 33/100\n",
            "\u001b[1m69/69\u001b[0m \u001b[32m━━━━━━━━━━━━━━━━━━━━\u001b[0m\u001b[37m\u001b[0m \u001b[1m20s\u001b[0m 276ms/step - accuracy: 0.7736 - loss: 12.6232 - val_accuracy: 0.8225 - val_loss: 12.3114 - learning_rate: 1.0000e-04\n",
            "Epoch 34/100\n",
            "\u001b[1m69/69\u001b[0m \u001b[32m━━━━━━━━━━━━━━━━━━━━\u001b[0m\u001b[37m\u001b[0m \u001b[1m20s\u001b[0m 275ms/step - accuracy: 0.7987 - loss: 12.3095 - val_accuracy: 0.8442 - val_loss: 12.0322 - learning_rate: 1.0000e-04\n",
            "Epoch 35/100\n",
            "\u001b[1m69/69\u001b[0m \u001b[32m━━━━━━━━━━━━━━━━━━━━\u001b[0m\u001b[37m\u001b[0m \u001b[1m20s\u001b[0m 274ms/step - accuracy: 0.7925 - loss: 11.9932 - val_accuracy: 0.8297 - val_loss: 11.7107 - learning_rate: 1.0000e-04\n",
            "Epoch 36/100\n",
            "\u001b[1m69/69\u001b[0m \u001b[32m━━━━━━━━━━━━━━━━━━━━\u001b[0m\u001b[37m\u001b[0m \u001b[1m20s\u001b[0m 275ms/step - accuracy: 0.8214 - loss: 11.6819 - val_accuracy: 0.8188 - val_loss: 11.4099 - learning_rate: 1.0000e-04\n",
            "Epoch 37/100\n",
            "\u001b[1m69/69\u001b[0m \u001b[32m━━━━━━━━━━━━━━━━━━━━\u001b[0m\u001b[37m\u001b[0m \u001b[1m20s\u001b[0m 275ms/step - accuracy: 0.8089 - loss: 11.4562 - val_accuracy: 0.8116 - val_loss: 11.1401 - learning_rate: 1.0000e-04\n",
            "Epoch 38/100\n",
            "\u001b[1m69/69\u001b[0m \u001b[32m━━━━━━━━━━━━━━━━━━━━\u001b[0m\u001b[37m\u001b[0m \u001b[1m20s\u001b[0m 276ms/step - accuracy: 0.8276 - loss: 11.1087 - val_accuracy: 0.8043 - val_loss: 10.8770 - learning_rate: 1.0000e-04\n",
            "Epoch 39/100\n",
            "\u001b[1m69/69\u001b[0m \u001b[32m━━━━━━━━━━━━━━━━━━━━\u001b[0m\u001b[37m\u001b[0m \u001b[1m20s\u001b[0m 275ms/step - accuracy: 0.8319 - loss: 10.7936 - val_accuracy: 0.8116 - val_loss: 10.5674 - learning_rate: 1.0000e-04\n",
            "Epoch 40/100\n",
            "\u001b[1m69/69\u001b[0m \u001b[32m━━━━━━━━━━━━━━━━━━━━\u001b[0m\u001b[37m\u001b[0m \u001b[1m20s\u001b[0m 275ms/step - accuracy: 0.8547 - loss: 10.4831 - val_accuracy: 0.8297 - val_loss: 10.3393 - learning_rate: 1.0000e-04\n",
            "Epoch 41/100\n",
            "\u001b[1m69/69\u001b[0m \u001b[32m━━━━━━━━━━━━━━━━━━━━\u001b[0m\u001b[37m\u001b[0m \u001b[1m20s\u001b[0m 273ms/step - accuracy: 0.8423 - loss: 10.1640 - val_accuracy: 0.8080 - val_loss: 10.0073 - learning_rate: 1.0000e-04\n",
            "Epoch 42/100\n",
            "\u001b[1m69/69\u001b[0m \u001b[32m━━━━━━━━━━━━━━━━━━━━\u001b[0m\u001b[37m\u001b[0m \u001b[1m20s\u001b[0m 276ms/step - accuracy: 0.8554 - loss: 9.8551 - val_accuracy: 0.8297 - val_loss: 9.7668 - learning_rate: 1.0000e-04\n",
            "Epoch 43/100\n",
            "\u001b[1m69/69\u001b[0m \u001b[32m━━━━━━━━━━━━━━━━━━━━\u001b[0m\u001b[37m\u001b[0m \u001b[1m20s\u001b[0m 276ms/step - accuracy: 0.8599 - loss: 9.5873 - val_accuracy: 0.8478 - val_loss: 9.4229 - learning_rate: 1.0000e-04\n",
            "Epoch 44/100\n",
            "\u001b[1m69/69\u001b[0m \u001b[32m━━━━━━━━━━━━━━━━━━━━\u001b[0m\u001b[37m\u001b[0m \u001b[1m20s\u001b[0m 274ms/step - accuracy: 0.8276 - loss: 9.3373 - val_accuracy: 0.8225 - val_loss: 9.1458 - learning_rate: 1.0000e-04\n",
            "Epoch 45/100\n",
            "\u001b[1m69/69\u001b[0m \u001b[32m━━━━━━━━━━━━━━━━━━━━\u001b[0m\u001b[37m\u001b[0m \u001b[1m20s\u001b[0m 274ms/step - accuracy: 0.8300 - loss: 9.0625 - val_accuracy: 0.8225 - val_loss: 8.8343 - learning_rate: 1.0000e-04\n",
            "Epoch 46/100\n",
            "\u001b[1m69/69\u001b[0m \u001b[32m━━━━━━━━━━━━━━━━━━━━\u001b[0m\u001b[37m\u001b[0m \u001b[1m20s\u001b[0m 274ms/step - accuracy: 0.8538 - loss: 8.7716 - val_accuracy: 0.7862 - val_loss: 8.6138 - learning_rate: 1.0000e-04\n",
            "Epoch 47/100\n",
            "\u001b[1m69/69\u001b[0m \u001b[32m━━━━━━━━━━━━━━━━━━━━\u001b[0m\u001b[37m\u001b[0m \u001b[1m20s\u001b[0m 272ms/step - accuracy: 0.8629 - loss: 8.4764 - val_accuracy: 0.8225 - val_loss: 8.3607 - learning_rate: 1.0000e-04\n",
            "Epoch 48/100\n",
            "\u001b[1m69/69\u001b[0m \u001b[32m━━━━━━━━━━━━━━━━━━━━\u001b[0m\u001b[37m\u001b[0m \u001b[1m20s\u001b[0m 273ms/step - accuracy: 0.8631 - loss: 8.2013 - val_accuracy: 0.8297 - val_loss: 8.0435 - learning_rate: 1.0000e-04\n",
            "Epoch 49/100\n",
            "\u001b[1m69/69\u001b[0m \u001b[32m━━━━━━━━━━━━━━━━━━━━\u001b[0m\u001b[37m\u001b[0m \u001b[1m20s\u001b[0m 274ms/step - accuracy: 0.8895 - loss: 7.8612 - val_accuracy: 0.8333 - val_loss: 7.8407 - learning_rate: 1.0000e-04\n",
            "Epoch 50/100\n",
            "\u001b[1m69/69\u001b[0m \u001b[32m━━━━━━━━━━━━━━━━━━━━\u001b[0m\u001b[37m\u001b[0m \u001b[1m20s\u001b[0m 274ms/step - accuracy: 0.8955 - loss: 7.6131 - val_accuracy: 0.8007 - val_loss: 7.5452 - learning_rate: 1.0000e-04\n",
            "Epoch 51/100\n",
            "\u001b[1m69/69\u001b[0m \u001b[32m━━━━━━━━━━━━━━━━━━━━\u001b[0m\u001b[37m\u001b[0m \u001b[1m20s\u001b[0m 274ms/step - accuracy: 0.8918 - loss: 7.3211 - val_accuracy: 0.8297 - val_loss: 7.3158 - learning_rate: 1.0000e-04\n",
            "Epoch 52/100\n",
            "\u001b[1m69/69\u001b[0m \u001b[32m━━━━━━━━━━━━━━━━━━━━\u001b[0m\u001b[37m\u001b[0m \u001b[1m20s\u001b[0m 275ms/step - accuracy: 0.9266 - loss: 7.0281 - val_accuracy: 0.8007 - val_loss: 7.1000 - learning_rate: 1.0000e-04\n",
            "Epoch 53/100\n",
            "\u001b[1m69/69\u001b[0m \u001b[32m━━━━━━━━━━━━━━━━━━━━\u001b[0m\u001b[37m\u001b[0m \u001b[1m20s\u001b[0m 274ms/step - accuracy: 0.9145 - loss: 6.7985 - val_accuracy: 0.8152 - val_loss: 6.7945 - learning_rate: 1.0000e-04\n",
            "Epoch 54/100\n",
            "\u001b[1m69/69\u001b[0m \u001b[32m━━━━━━━━━━━━━━━━━━━━\u001b[0m\u001b[37m\u001b[0m \u001b[1m20s\u001b[0m 274ms/step - accuracy: 0.9256 - loss: 6.4928 - val_accuracy: 0.8080 - val_loss: 6.6392 - learning_rate: 1.0000e-04\n",
            "Epoch 55/100\n",
            "\u001b[1m69/69\u001b[0m \u001b[32m━━━━━━━━━━━━━━━━━━━━\u001b[0m\u001b[37m\u001b[0m \u001b[1m20s\u001b[0m 274ms/step - accuracy: 0.9316 - loss: 6.2660 - val_accuracy: 0.8297 - val_loss: 6.3269 - learning_rate: 1.0000e-04\n",
            "Epoch 56/100\n",
            "\u001b[1m69/69\u001b[0m \u001b[32m━━━━━━━━━━━━━━━━━━━━\u001b[0m\u001b[37m\u001b[0m \u001b[1m20s\u001b[0m 274ms/step - accuracy: 0.9168 - loss: 6.0468 - val_accuracy: 0.8152 - val_loss: 6.1395 - learning_rate: 1.0000e-04\n",
            "Epoch 57/100\n",
            "\u001b[1m69/69\u001b[0m \u001b[32m━━━━━━━━━━━━━━━━━━━━\u001b[0m\u001b[37m\u001b[0m \u001b[1m20s\u001b[0m 274ms/step - accuracy: 0.9354 - loss: 5.7678 - val_accuracy: 0.8261 - val_loss: 5.8790 - learning_rate: 1.0000e-04\n",
            "Epoch 58/100\n",
            "\u001b[1m69/69\u001b[0m \u001b[32m━━━━━━━━━━━━━━━━━━━━\u001b[0m\u001b[37m\u001b[0m \u001b[1m20s\u001b[0m 274ms/step - accuracy: 0.9341 - loss: 5.5582 - val_accuracy: 0.8297 - val_loss: 5.6004 - learning_rate: 1.0000e-04\n",
            "Epoch 59/100\n",
            "\u001b[1m69/69\u001b[0m \u001b[32m━━━━━━━━━━━━━━━━━━━━\u001b[0m\u001b[37m\u001b[0m \u001b[1m20s\u001b[0m 273ms/step - accuracy: 0.9378 - loss: 5.3139 - val_accuracy: 0.8188 - val_loss: 5.4467 - learning_rate: 1.0000e-04\n",
            "Epoch 60/100\n",
            "\u001b[1m69/69\u001b[0m \u001b[32m━━━━━━━━━━━━━━━━━━━━\u001b[0m\u001b[37m\u001b[0m \u001b[1m20s\u001b[0m 273ms/step - accuracy: 0.9501 - loss: 5.0704 - val_accuracy: 0.8116 - val_loss: 5.2199 - learning_rate: 1.0000e-04\n",
            "Epoch 61/100\n",
            "\u001b[1m69/69\u001b[0m \u001b[32m━━━━━━━━━━━━━━━━━━━━\u001b[0m\u001b[37m\u001b[0m \u001b[1m20s\u001b[0m 275ms/step - accuracy: 0.9174 - loss: 4.9004 - val_accuracy: 0.8297 - val_loss: 4.9945 - learning_rate: 1.0000e-04\n",
            "Epoch 62/100\n",
            "\u001b[1m69/69\u001b[0m \u001b[32m━━━━━━━━━━━━━━━━━━━━\u001b[0m\u001b[37m\u001b[0m \u001b[1m20s\u001b[0m 274ms/step - accuracy: 0.9534 - loss: 4.6213 - val_accuracy: 0.8297 - val_loss: 4.8033 - learning_rate: 1.0000e-04\n",
            "Epoch 63/100\n",
            "\u001b[1m69/69\u001b[0m \u001b[32m━━━━━━━━━━━━━━━━━━━━\u001b[0m\u001b[37m\u001b[0m \u001b[1m20s\u001b[0m 274ms/step - accuracy: 0.9462 - loss: 4.4343 - val_accuracy: 0.8370 - val_loss: 4.5926 - learning_rate: 1.0000e-04\n",
            "Epoch 64/100\n",
            "\u001b[1m69/69\u001b[0m \u001b[32m━━━━━━━━━━━━━━━━━━━━\u001b[0m\u001b[37m\u001b[0m \u001b[1m20s\u001b[0m 274ms/step - accuracy: 0.9460 - loss: 4.2445 - val_accuracy: 0.8406 - val_loss: 4.3612 - learning_rate: 1.0000e-04\n",
            "Epoch 65/100\n",
            "\u001b[1m69/69\u001b[0m \u001b[32m━━━━━━━━━━━━━━━━━━━━\u001b[0m\u001b[37m\u001b[0m \u001b[1m20s\u001b[0m 274ms/step - accuracy: 0.9426 - loss: 4.0695 - val_accuracy: 0.8478 - val_loss: 4.1980 - learning_rate: 1.0000e-04\n",
            "Epoch 66/100\n",
            "\u001b[1m69/69\u001b[0m \u001b[32m━━━━━━━━━━━━━━━━━━━━\u001b[0m\u001b[37m\u001b[0m \u001b[1m20s\u001b[0m 275ms/step - accuracy: 0.9584 - loss: 3.8467 - val_accuracy: 0.8442 - val_loss: 4.0011 - learning_rate: 1.0000e-04\n",
            "Epoch 67/100\n",
            "\u001b[1m69/69\u001b[0m \u001b[32m━━━━━━━━━━━━━━━━━━━━\u001b[0m\u001b[37m\u001b[0m \u001b[1m20s\u001b[0m 274ms/step - accuracy: 0.9489 - loss: 3.6715 - val_accuracy: 0.8261 - val_loss: 3.8233 - learning_rate: 1.0000e-04\n",
            "Epoch 68/100\n",
            "\u001b[1m69/69\u001b[0m \u001b[32m━━━━━━━━━━━━━━━━━━━━\u001b[0m\u001b[37m\u001b[0m \u001b[1m20s\u001b[0m 274ms/step - accuracy: 0.9472 - loss: 3.4957 - val_accuracy: 0.8225 - val_loss: 3.6693 - learning_rate: 1.0000e-04\n",
            "Epoch 69/100\n",
            "\u001b[1m69/69\u001b[0m \u001b[32m━━━━━━━━━━━━━━━━━━━━\u001b[0m\u001b[37m\u001b[0m \u001b[1m20s\u001b[0m 275ms/step - accuracy: 0.9655 - loss: 3.3111 - val_accuracy: 0.8225 - val_loss: 3.4823 - learning_rate: 1.0000e-04\n",
            "Epoch 70/100\n",
            "\u001b[1m69/69\u001b[0m \u001b[32m━━━━━━━━━━━━━━━━━━━━\u001b[0m\u001b[37m\u001b[0m \u001b[1m20s\u001b[0m 275ms/step - accuracy: 0.9632 - loss: 3.1275 - val_accuracy: 0.8442 - val_loss: 3.3765 - learning_rate: 1.0000e-04\n",
            "Epoch 71/100\n",
            "\u001b[1m69/69\u001b[0m \u001b[32m━━━━━━━━━━━━━━━━━━━━\u001b[0m\u001b[37m\u001b[0m \u001b[1m20s\u001b[0m 276ms/step - accuracy: 0.9463 - loss: 3.0077 - val_accuracy: 0.8442 - val_loss: 3.1607 - learning_rate: 1.0000e-04\n",
            "Epoch 72/100\n",
            "\u001b[1m69/69\u001b[0m \u001b[32m━━━━━━━━━━━━━━━━━━━━\u001b[0m\u001b[37m\u001b[0m \u001b[1m20s\u001b[0m 274ms/step - accuracy: 0.9635 - loss: 2.8087 - val_accuracy: 0.8225 - val_loss: 3.0108 - learning_rate: 1.0000e-04\n",
            "Epoch 73/100\n",
            "\u001b[1m69/69\u001b[0m \u001b[32m━━━━━━━━━━━━━━━━━━━━\u001b[0m\u001b[37m\u001b[0m \u001b[1m20s\u001b[0m 273ms/step - accuracy: 0.9490 - loss: 2.7125 - val_accuracy: 0.8370 - val_loss: 2.8141 - learning_rate: 1.0000e-04\n",
            "Epoch 74/100\n",
            "\u001b[1m69/69\u001b[0m \u001b[32m━━━━━━━━━━━━━━━━━━━━\u001b[0m\u001b[37m\u001b[0m \u001b[1m20s\u001b[0m 273ms/step - accuracy: 0.9530 - loss: 2.5411 - val_accuracy: 0.8478 - val_loss: 2.7364 - learning_rate: 1.0000e-04\n",
            "Epoch 75/100\n",
            "\u001b[1m69/69\u001b[0m \u001b[32m━━━━━━━━━━━━━━━━━━━━\u001b[0m\u001b[37m\u001b[0m \u001b[1m20s\u001b[0m 274ms/step - accuracy: 0.9637 - loss: 2.3967 - val_accuracy: 0.8406 - val_loss: 2.6468 - learning_rate: 1.0000e-04\n",
            "Epoch 76/100\n",
            "\u001b[1m69/69\u001b[0m \u001b[32m━━━━━━━━━━━━━━━━━━━━\u001b[0m\u001b[37m\u001b[0m \u001b[1m20s\u001b[0m 270ms/step - accuracy: 0.9536 - loss: 2.2944 - val_accuracy: 0.8043 - val_loss: 2.7141 - learning_rate: 1.0000e-04\n",
            "Epoch 77/100\n",
            "\u001b[1m69/69\u001b[0m \u001b[32m━━━━━━━━━━━━━━━━━━━━\u001b[0m\u001b[37m\u001b[0m \u001b[1m20s\u001b[0m 274ms/step - accuracy: 0.9688 - loss: 2.1583 - val_accuracy: 0.8623 - val_loss: 2.3842 - learning_rate: 1.0000e-04\n",
            "Epoch 78/100\n",
            "\u001b[1m69/69\u001b[0m \u001b[32m━━━━━━━━━━━━━━━━━━━━\u001b[0m\u001b[37m\u001b[0m \u001b[1m20s\u001b[0m 274ms/step - accuracy: 0.9702 - loss: 2.0119 - val_accuracy: 0.8659 - val_loss: 2.3125 - learning_rate: 1.0000e-04\n",
            "Epoch 79/100\n",
            "\u001b[1m69/69\u001b[0m \u001b[32m━━━━━━━━━━━━━━━━━━━━\u001b[0m\u001b[37m\u001b[0m \u001b[1m20s\u001b[0m 269ms/step - accuracy: 0.9716 - loss: 1.9001 - val_accuracy: 0.8043 - val_loss: 2.3261 - learning_rate: 1.0000e-04\n",
            "Epoch 80/100\n",
            "\u001b[1m69/69\u001b[0m \u001b[32m━━━━━━━━━━━━━━━━━━━━\u001b[0m\u001b[37m\u001b[0m \u001b[1m20s\u001b[0m 275ms/step - accuracy: 0.9629 - loss: 1.8149 - val_accuracy: 0.8623 - val_loss: 2.1567 - learning_rate: 1.0000e-04\n",
            "Epoch 81/100\n",
            "\u001b[1m69/69\u001b[0m \u001b[32m━━━━━━━━━━━━━━━━━━━━\u001b[0m\u001b[37m\u001b[0m \u001b[1m20s\u001b[0m 273ms/step - accuracy: 0.9747 - loss: 1.6657 - val_accuracy: 0.8551 - val_loss: 2.0362 - learning_rate: 1.0000e-04\n",
            "Epoch 82/100\n",
            "\u001b[1m69/69\u001b[0m \u001b[32m━━━━━━━━━━━━━━━━━━━━\u001b[0m\u001b[37m\u001b[0m \u001b[1m20s\u001b[0m 274ms/step - accuracy: 0.9540 - loss: 1.6179 - val_accuracy: 0.8587 - val_loss: 1.9060 - learning_rate: 1.0000e-04\n",
            "Epoch 83/100\n",
            "\u001b[1m69/69\u001b[0m \u001b[32m━━━━━━━━━━━━━━━━━━━━\u001b[0m\u001b[37m\u001b[0m \u001b[1m20s\u001b[0m 274ms/step - accuracy: 0.9768 - loss: 1.4798 - val_accuracy: 0.8696 - val_loss: 1.7866 - learning_rate: 1.0000e-04\n",
            "Epoch 84/100\n",
            "\u001b[1m69/69\u001b[0m \u001b[32m━━━━━━━━━━━━━━━━━━━━\u001b[0m\u001b[37m\u001b[0m \u001b[1m20s\u001b[0m 271ms/step - accuracy: 0.9613 - loss: 1.4372 - val_accuracy: 0.8659 - val_loss: 1.7909 - learning_rate: 1.0000e-04\n",
            "Epoch 85/100\n",
            "\u001b[1m69/69\u001b[0m \u001b[32m━━━━━━━━━━━━━━━━━━━━\u001b[0m\u001b[37m\u001b[0m \u001b[1m20s\u001b[0m 273ms/step - accuracy: 0.9669 - loss: 1.3516 - val_accuracy: 0.8804 - val_loss: 1.6120 - learning_rate: 1.0000e-04\n",
            "Epoch 86/100\n",
            "\u001b[1m69/69\u001b[0m \u001b[32m━━━━━━━━━━━━━━━━━━━━\u001b[0m\u001b[37m\u001b[0m \u001b[1m20s\u001b[0m 274ms/step - accuracy: 0.9629 - loss: 1.2809 - val_accuracy: 0.8478 - val_loss: 1.5783 - learning_rate: 1.0000e-04\n",
            "Epoch 87/100\n",
            "\u001b[1m69/69\u001b[0m \u001b[32m━━━━━━━━━━━━━━━━━━━━\u001b[0m\u001b[37m\u001b[0m \u001b[1m20s\u001b[0m 275ms/step - accuracy: 0.9888 - loss: 1.1582 - val_accuracy: 0.8333 - val_loss: 1.5317 - learning_rate: 1.0000e-04\n",
            "Epoch 88/100\n",
            "\u001b[1m69/69\u001b[0m \u001b[32m━━━━━━━━━━━━━━━━━━━━\u001b[0m\u001b[37m\u001b[0m \u001b[1m20s\u001b[0m 269ms/step - accuracy: 0.9774 - loss: 1.1024 - val_accuracy: 0.8442 - val_loss: 1.5586 - learning_rate: 1.0000e-04\n",
            "Epoch 89/100\n",
            "\u001b[1m69/69\u001b[0m \u001b[32m━━━━━━━━━━━━━━━━━━━━\u001b[0m\u001b[37m\u001b[0m \u001b[1m20s\u001b[0m 273ms/step - accuracy: 0.9663 - loss: 1.0407 - val_accuracy: 0.8732 - val_loss: 1.3576 - learning_rate: 1.0000e-04\n",
            "Epoch 90/100\n",
            "\u001b[1m69/69\u001b[0m \u001b[32m━━━━━━━━━━━━━━━━━━━━\u001b[0m\u001b[37m\u001b[0m \u001b[1m20s\u001b[0m 271ms/step - accuracy: 0.9648 - loss: 1.0129 - val_accuracy: 0.8442 - val_loss: 1.4012 - learning_rate: 1.0000e-04\n",
            "Epoch 91/100\n",
            "\u001b[1m69/69\u001b[0m \u001b[32m━━━━━━━━━━━━━━━━━━━━\u001b[0m\u001b[37m\u001b[0m \u001b[1m20s\u001b[0m 275ms/step - accuracy: 0.9658 - loss: 0.9430 - val_accuracy: 0.8514 - val_loss: 1.2479 - learning_rate: 1.0000e-04\n",
            "Epoch 92/100\n",
            "\u001b[1m69/69\u001b[0m \u001b[32m━━━━━━━━━━━━━━━━━━━━\u001b[0m\u001b[37m\u001b[0m \u001b[1m20s\u001b[0m 272ms/step - accuracy: 0.9774 - loss: 0.8643 - val_accuracy: 0.8623 - val_loss: 1.2526 - learning_rate: 1.0000e-04\n",
            "Epoch 93/100\n",
            "\u001b[1m69/69\u001b[0m \u001b[32m━━━━━━━━━━━━━━━━━━━━\u001b[0m\u001b[37m\u001b[0m \u001b[1m20s\u001b[0m 269ms/step - accuracy: 0.9737 - loss: 0.8284 - val_accuracy: 0.8370 - val_loss: 1.3735 - learning_rate: 1.0000e-04\n",
            "Epoch 94/100\n",
            "\u001b[1m69/69\u001b[0m \u001b[32m━━━━━━━━━━━━━━━━━━━━\u001b[0m\u001b[37m\u001b[0m \u001b[1m20s\u001b[0m 274ms/step - accuracy: 0.9845 - loss: 0.7629 - val_accuracy: 0.8696 - val_loss: 1.0737 - learning_rate: 1.0000e-04\n",
            "Epoch 95/100\n",
            "\u001b[1m69/69\u001b[0m \u001b[32m━━━━━━━━━━━━━━━━━━━━\u001b[0m\u001b[37m\u001b[0m \u001b[1m20s\u001b[0m 271ms/step - accuracy: 0.9627 - loss: 0.7555 - val_accuracy: 0.8478 - val_loss: 1.1513 - learning_rate: 1.0000e-04\n",
            "Epoch 96/100\n",
            "\u001b[1m69/69\u001b[0m \u001b[32m━━━━━━━━━━━━━━━━━━━━\u001b[0m\u001b[37m\u001b[0m \u001b[1m20s\u001b[0m 270ms/step - accuracy: 0.9582 - loss: 0.7323 - val_accuracy: 0.8659 - val_loss: 1.0767 - learning_rate: 1.0000e-04\n",
            "Epoch 97/100\n",
            "\u001b[1m69/69\u001b[0m \u001b[32m━━━━━━━━━━━━━━━━━━━━\u001b[0m\u001b[37m\u001b[0m \u001b[1m20s\u001b[0m 270ms/step - accuracy: 0.9758 - loss: 0.6903 - val_accuracy: 0.8659 - val_loss: 1.0965 - learning_rate: 1.0000e-04\n",
            "Epoch 98/100\n",
            "\u001b[1m69/69\u001b[0m \u001b[32m━━━━━━━━━━━━━━━━━━━━\u001b[0m\u001b[37m\u001b[0m \u001b[1m20s\u001b[0m 270ms/step - accuracy: 0.9848 - loss: 0.6128 - val_accuracy: 0.8370 - val_loss: 1.2010 - learning_rate: 1.0000e-04\n",
            "Epoch 99/100\n",
            "\u001b[1m69/69\u001b[0m \u001b[32m━━━━━━━━━━━━━━━━━━━━\u001b[0m\u001b[37m\u001b[0m \u001b[1m20s\u001b[0m 274ms/step - accuracy: 0.9836 - loss: 0.5794 - val_accuracy: 0.8768 - val_loss: 0.9914 - learning_rate: 1.0000e-04\n",
            "Epoch 100/100\n",
            "\u001b[1m69/69\u001b[0m \u001b[32m━━━━━━━━━━━━━━━━━━━━\u001b[0m\u001b[37m\u001b[0m \u001b[1m20s\u001b[0m 271ms/step - accuracy: 0.9629 - loss: 0.5896 - val_accuracy: 0.8551 - val_loss: 1.0179 - learning_rate: 1.0000e-04\n"
          ]
        }
      ],
      "source": [
        "# Fit the model\n",
        "history = model.fit(\n",
        "    train_datagen.flow(train_images, train_labels_categorical, batch_size=BATCH_SIZE),\n",
        "    epochs=EPOCHS,\n",
        "    validation_data=test_datagen.flow(test_images, test_labels_categorical, batch_size=BATCH_SIZE),\n",
        "    callbacks=[reduce_lr, early_stopping],\n",
        "    class_weight=class_weight_dict\n",
        ")"
      ]
    },
    {
      "cell_type": "code",
      "execution_count": null,
      "metadata": {
        "id": "TsTzr-xVSx5v",
        "colab": {
          "base_uri": "https://localhost:8080/",
          "height": 410
        },
        "outputId": "e9af6dff-ab6b-4882-ccc3-eaca83b8d83b"
      },
      "outputs": [
        {
          "output_type": "display_data",
          "data": {
            "text/plain": [
              "<Figure size 1200x400 with 2 Axes>"
            ],
            "image/png": "[encoded data removed]"
          },
          "metadata": {}
        }
      ],
      "source": [
        "# Plot accuracy and loss\n",
        "plt.figure(figsize=(12, 4))\n",
        "plt.subplot(1, 2, 1)\n",
        "plt.plot(history.history['accuracy'], label='Train')\n",
        "plt.plot(history.history['val_accuracy'], label='Validation')\n",
        "plt.title('Model accuracy')\n",
        "plt.ylabel('Accuracy')\n",
        "plt.xlabel('Epoch')\n",
        "plt.legend(loc='upper left')\n",
        "\n",
        "plt.subplot(1, 2, 2)\n",
        "plt.plot(history.history['loss'], label='Train')\n",
        "plt.plot(history.history['val_loss'], label='Validation')\n",
        "plt.title('Model loss')\n",
        "plt.ylabel('Loss')\n",
        "plt.xlabel('Epoch')\n",
        "plt.legend(loc='upper left')\n",
        "\n",
        "plt.show()\n"
      ]
    },
    {
      "cell_type": "code",
      "execution_count": null,
      "metadata": {
        "id": "_amw5lQaS0Nz",
        "colab": {
          "base_uri": "https://localhost:8080/",
          "height": 932
        },
        "outputId": "02345aa0-45b9-4a20-ba71-cd191c4dc4eb"
      },
      "outputs": [
        {
          "output_type": "stream",
          "name": "stdout",
          "text": [
            "\u001b[1m9/9\u001b[0m \u001b[32m━━━━━━━━━━━━━━━━━━━━\u001b[0m\u001b[37m\u001b[0m \u001b[1m36s\u001b[0m 2s/step\n",
            "               precision    recall  f1-score   support\n",
            "\n",
            "      Maybrat       0.74      0.86      0.80        74\n",
            "         Moi2       0.99      0.99      0.99        77\n",
            "   Raja Ampat       0.98      0.98      0.98        64\n",
            "SorongSelatan       0.80      0.64      0.71        61\n",
            "\n",
            "     accuracy                           0.88       276\n",
            "    macro avg       0.88      0.87      0.87       276\n",
            " weighted avg       0.88      0.88      0.87       276\n",
            "\n"
          ]
        },
        {
          "output_type": "display_data",
          "data": {
            "text/plain": [
              "<Figure size 1000x800 with 2 Axes>"
            ],
            "image/png": "[encoded data removed]"
          },
          "metadata": {}
        }
      ],
      "source": [
        "# Evaluate model\n",
        "predictions = model.predict(test_images)\n",
        "predicted_classes = np.argmax(predictions, axis=1)\n",
        "\n",
        "# Classification report and confusion matrix\n",
        "print(classification_report(test_labels_encoded, predicted_classes, target_names=encoder.classes_))\n",
        "cm = confusion_matrix(test_labels_encoded, predicted_classes)\n",
        "plt.figure(figsize=(10, 8))\n",
        "sns.heatmap(cm, annot=True, fmt='d', cmap='Blues', xticklabels=encoder.classes_, yticklabels=encoder.classes_)\n",
        "plt.ylabel('Actual')\n",
        "plt.xlabel('Predicted')\n",
        "plt.title('Confusion Matrix')\n",
        "plt.show()"
      ]
    }
  ],
  "metadata": {
    "colab": {
      "provenance": [],
      "gpuType": "T4",
      "machine_shape": "hm",
      "authorship_tag": "ABX9TyMuiNByQurs6KUfJjzH/4pg",
      "include_colab_link": true
    },
    "kernelspec": {
      "display_name": "Python 3",
      "name": "python3"
    },
    "language_info": {
      "name": "python"
    },
    "accelerator": "GPU"
  },
  "nbformat": 4,
  "nbformat_minor": 0
}